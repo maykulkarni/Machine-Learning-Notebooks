{
  "nbformat": 4,
  "nbformat_minor": 0,
  "metadata": {
    "colab": {
      "name": "KSC_PCA.ipynb",
      "provenance": [],
      "collapsed_sections": [],
      "machine_shape": "hm"
    },
    "kernelspec": {
      "name": "python3",
      "display_name": "Python 3"
    }
  },
  "cells": [
    {
      "cell_type": "code",
      "metadata": {
        "id": "cJTVxOQGz-cw"
      },
      "source": [
        "import numpy as np\n",
        "from sklearn.decomposition import PCA\n",
        "import scipy.io as sio\n",
        "from sklearn.model_selection import train_test_split\n",
        "from sklearn import preprocessing\n",
        "import os\n",
        "import random\n",
        "from random import shuffle\n",
        "from skimage.transform import rotate\n",
        "import scipy.ndimage\n",
        "import matplotlib.pyplot as plt\n",
        "%matplotlib inline"
      ],
      "execution_count": 60,
      "outputs": []
    },
    {
      "cell_type": "code",
      "metadata": {
        "id": "pQrsee9I0Qaa"
      },
      "source": [
        "import torch"
      ],
      "execution_count": 61,
      "outputs": []
    },
    {
      "cell_type": "code",
      "metadata": {
        "id": "n3f-2cIx0USV"
      },
      "source": [
        "from torch.utils.data import Dataset, DataLoader"
      ],
      "execution_count": 62,
      "outputs": []
    },
    {
      "cell_type": "code",
      "metadata": {
        "id": "8YegeH3I0YAk"
      },
      "source": [
        "hsi_data= sio.loadmat('KSC.mat')['KSC']\n",
        "labels = sio.loadmat('KSC_gt.mat')['KSC_gt']"
      ],
      "execution_count": 63,
      "outputs": []
    },
    {
      "cell_type": "code",
      "metadata": {
        "id": "X9RGVlN30YW4"
      },
      "source": [
        "[height,width,depth]=hsi_data.shape"
      ],
      "execution_count": 64,
      "outputs": []
    },
    {
      "cell_type": "code",
      "metadata": {
        "id": "_u36Tv-i0YkC"
      },
      "source": [
        "def splitTrainTestSet(X, y, testRatio=0.10):\n",
        "    X_train, X_test, y_train, y_test = train_test_split(X, y, test_size=testRatio, random_state=345,\n",
        "                                                        stratify=y)\n",
        "    return X_train, X_test, y_train, y_test\n",
        "\n",
        "def oversampleWeakClasses(X, y):\n",
        "    uniqueLabels, labelCounts = np.unique(y, return_counts=True)\n",
        "    maxCount = np.max(labelCounts)\n",
        "    labelInverseRatios = maxCount / labelCounts  \n",
        "    # repeat for every label and concat\n",
        "    newX = X[y == uniqueLabels[0], :, :, :].repeat(round(labelInverseRatios[0]), axis=0)\n",
        "    newY = y[y == uniqueLabels[0]].repeat(round(labelInverseRatios[0]), axis=0)\n",
        "    for label, labelInverseRatio in zip(uniqueLabels[1:], labelInverseRatios[1:]):\n",
        "        cX = X[y== label,:,:,:].repeat(round(labelInverseRatio), axis=0)\n",
        "        cY = y[y == label].repeat(round(labelInverseRatio), axis=0)\n",
        "        newX = np.concatenate((newX, cX))\n",
        "        newY = np.concatenate((newY, cY))\n",
        "    np.random.seed(seed=42)\n",
        "    rand_perm = np.random.permutation(newY.shape[0])\n",
        "    newX = newX[rand_perm, :, :, :]\n",
        "    newY = newY[rand_perm]\n",
        "    return newX, newY"
      ],
      "execution_count": 65,
      "outputs": []
    },
    {
      "cell_type": "code",
      "metadata": {
        "id": "C-2VJDlm0Yns"
      },
      "source": [
        "def standartizeData(X):\n",
        "    newX = np.reshape(X, (-1, X.shape[2]))\n",
        "    scaler = preprocessing.StandardScaler().fit(newX)  \n",
        "    newX = scaler.transform(newX)\n",
        "    newX = np.reshape(newX, (X.shape[0],X.shape[1],X.shape[2]))\n",
        "    return newX, scaler\n",
        "\n",
        "def applyPCA(X, numComponents=75):\n",
        "    newX = np.reshape(X, (-1, X.shape[2]))\n",
        "    pca = PCA(n_components=numComponents, whiten=True)\n",
        "    newX = pca.fit_transform(newX)\n",
        "    newX = np.reshape(newX, (X.shape[0],X.shape[1], numComponents))\n",
        "    return newX, pca\n",
        "\n",
        "def padWithZeros(X, margin=2):\n",
        "    newX = np.zeros((X.shape[0] + 2 * margin, X.shape[1] + 2* margin, X.shape[2]))\n",
        "    x_offset = margin\n",
        "    y_offset = margin\n",
        "    newX[x_offset:X.shape[0] + x_offset, y_offset:X.shape[1] + y_offset, :] = X\n",
        "    return newX\n",
        "\n",
        "def createPatches(X, y, windowSize=11, removeZeroLabels = True):\n",
        "    margin = int((windowSize - 1) / 2)\n",
        "    zeroPaddedX = padWithZeros(X, margin=margin)\n",
        "    # split patches\n",
        "    patchesData = np.zeros((X.shape[0] * X.shape[1], windowSize, windowSize, X.shape[2]))\n",
        "    patchesLabels = np.zeros((X.shape[0] * X.shape[1]))\n",
        "    patchIndex = 0\n",
        "    for r in range(margin, zeroPaddedX.shape[0] - margin):\n",
        "        for c in range(margin, zeroPaddedX.shape[1] - margin):\n",
        "            patch = zeroPaddedX[r - margin:r + margin + 1, c - margin:c + margin + 1]   \n",
        "            patchesData[patchIndex, :, :, :] = patch\n",
        "            patchesLabels[patchIndex] = y[r-margin, c-margin]\n",
        "            patchIndex = patchIndex + 1\n",
        "    if removeZeroLabels:\n",
        "        patchesData = patchesData[patchesLabels>0,:,:,:]\n",
        "        patchesLabels = patchesLabels[patchesLabels>0]\n",
        "        patchesLabels -= 1\n",
        "    return patchesData, patchesLabels\n",
        "\n",
        "\n",
        "def AugmentData(X_train):\n",
        "    for i in range(int(X_train.shape[0]/2)):\n",
        "        patch = X_train[i,:,:,:]\n",
        "        num = random.randint(0,2)\n",
        "        if (num == 0):\n",
        "            \n",
        "            flipped_patch = np.flipud(patch)\n",
        "        if (num == 1):\n",
        "            \n",
        "            flipped_patch = np.fliplr(patch)\n",
        "        if (num == 2):\n",
        "            \n",
        "            no = random.randrange(-180,180,30)\n",
        "            flipped_patch = scipy.ndimage.interpolation.rotate(patch, no,axes=(1, 0),\n",
        "                                                               reshape=False, output=None, order=3, mode='constant', cval=0.0, prefilter=False)\n",
        "    \n",
        "    \n",
        "    patch2 = flipped_patch\n",
        "    X_train[i,:,:,:] = patch2\n",
        "    \n",
        "    return X_train"
      ],
      "execution_count": 66,
      "outputs": []
    },
    {
      "cell_type": "code",
      "metadata": {
        "id": "ufC7Yw8O0Yqk"
      },
      "source": [
        "import numpy as np\n",
        "import scipy\n",
        "import os\n",
        "from keras.models import Sequential\n",
        "from keras.layers import Dense, Dropout, Flatten\n",
        "from keras.layers import Conv2D, MaxPooling2D,BatchNormalization\n",
        "from tensorflow.keras.callbacks import EarlyStopping\n",
        "from tensorflow.keras.optimizers import SGD\n",
        "from keras import backend as K\n",
        "from keras.utils import np_utils\n",
        "from keras.utils.vis_utils import plot_model"
      ],
      "execution_count": 67,
      "outputs": []
    },
    {
      "cell_type": "code",
      "metadata": {
        "id": "StGbOjVp0Yt1"
      },
      "source": [
        "weight_of_size=10"
      ],
      "execution_count": 68,
      "outputs": []
    },
    {
      "cell_type": "code",
      "metadata": {
        "id": "p7ZWKFn80-VW"
      },
      "source": [
        "X=hsi_data\n",
        "y=labels"
      ],
      "execution_count": 69,
      "outputs": []
    },
    {
      "cell_type": "code",
      "metadata": {
        "id": "ePFCJRgs1AvN"
      },
      "source": [
        "X,pca = applyPCA(X,30)"
      ],
      "execution_count": 70,
      "outputs": []
    },
    {
      "cell_type": "code",
      "metadata": {
        "colab": {
          "base_uri": "https://localhost:8080/"
        },
        "id": "Qz9K49eR1Ay8",
        "outputId": "c0e55591-90e8-430a-d6be-47a04c5abba5"
      },
      "source": [
        "X.shape"
      ],
      "execution_count": 71,
      "outputs": [
        {
          "output_type": "execute_result",
          "data": {
            "text/plain": [
              "(512, 614, 30)"
            ]
          },
          "metadata": {},
          "execution_count": 71
        }
      ]
    },
    {
      "cell_type": "code",
      "metadata": {
        "id": "V3F5oORe1A2R"
      },
      "source": [
        "XPatches, yPatches = createPatches(X, y, windowSize=15)"
      ],
      "execution_count": 72,
      "outputs": []
    },
    {
      "cell_type": "code",
      "metadata": {
        "colab": {
          "base_uri": "https://localhost:8080/"
        },
        "id": "PuYf0Pct1A5D",
        "outputId": "e36ac328-6780-4845-f337-af2edc6b2f7b"
      },
      "source": [
        "XPatches.shape"
      ],
      "execution_count": 73,
      "outputs": [
        {
          "output_type": "execute_result",
          "data": {
            "text/plain": [
              "(5211, 15, 15, 30)"
            ]
          },
          "metadata": {},
          "execution_count": 73
        }
      ]
    },
    {
      "cell_type": "code",
      "metadata": {
        "id": "kuYNa7oB1A8M"
      },
      "source": [
        "X_train, X_test, y_train, y_test = splitTrainTestSet(XPatches, yPatches, testRatio=0.2)"
      ],
      "execution_count": 74,
      "outputs": []
    },
    {
      "cell_type": "code",
      "metadata": {
        "id": "fiFb0Wb51A_T"
      },
      "source": [
        "X_train=np.reshape(X_train,(X_train.shape[0],X_train.shape[3],X_train.shape[1],X_train.shape[1]))"
      ],
      "execution_count": 75,
      "outputs": []
    },
    {
      "cell_type": "code",
      "metadata": {
        "id": "_qUQQRem1hRf"
      },
      "source": [
        "X_test=np.reshape(X_test,(X_test.shape[0],X_test.shape[3],X_test.shape[1],X_test.shape[1]))"
      ],
      "execution_count": 76,
      "outputs": []
    },
    {
      "cell_type": "code",
      "metadata": {
        "colab": {
          "base_uri": "https://localhost:8080/"
        },
        "id": "TetR8MOG1BCa",
        "outputId": "c2d73dfa-a822-4a09-c432-cbaf37e38da6"
      },
      "source": [
        "X_train.shape"
      ],
      "execution_count": 77,
      "outputs": [
        {
          "output_type": "execute_result",
          "data": {
            "text/plain": [
              "(4168, 30, 15, 15)"
            ]
          },
          "metadata": {},
          "execution_count": 77
        }
      ]
    },
    {
      "cell_type": "code",
      "metadata": {
        "colab": {
          "base_uri": "https://localhost:8080/"
        },
        "id": "1BimoC6S1SUu",
        "outputId": "86a83c53-0e00-45b2-906f-1bef8afd2a0b"
      },
      "source": [
        "X_train.shape"
      ],
      "execution_count": 78,
      "outputs": [
        {
          "output_type": "execute_result",
          "data": {
            "text/plain": [
              "(4168, 30, 15, 15)"
            ]
          },
          "metadata": {},
          "execution_count": 78
        }
      ]
    },
    {
      "cell_type": "code",
      "metadata": {
        "colab": {
          "base_uri": "https://localhost:8080/"
        },
        "id": "WIoAFbJQ1SZN",
        "outputId": "b1ad25a7-6a54-40b7-cf28-0a5e5a6f8bb9"
      },
      "source": [
        "y_train"
      ],
      "execution_count": 79,
      "outputs": [
        {
          "output_type": "execute_result",
          "data": {
            "text/plain": [
              "array([ 0., 12.,  3., ...,  0.,  5.,  9.])"
            ]
          },
          "metadata": {},
          "execution_count": 79
        }
      ]
    },
    {
      "cell_type": "code",
      "metadata": {
        "id": "QYvfhO4a1Sc7"
      },
      "source": [
        "class MyDataset(Dataset):\n",
        "    def __init__(self, data, target, transform=None):\n",
        "        self.data = torch.from_numpy(data).float()\n",
        "        self.target = torch.from_numpy(target).int()\n",
        "        self.transform = transform\n",
        "        \n",
        "    def __getitem__(self, index):\n",
        "        x = self.data[index]\n",
        "        y = self.target[index]\n",
        "        \n",
        "        if self.transform:\n",
        "            x = self.transform(x)\n",
        "            \n",
        "        return x, y\n",
        "    \n",
        "    def __len__(self):\n",
        "        return len(self.data)"
      ],
      "execution_count": 80,
      "outputs": []
    },
    {
      "cell_type": "code",
      "metadata": {
        "id": "pNLLxJ5-1Sgt"
      },
      "source": [
        "data_train = MyDataset(X_train, y_train)"
      ],
      "execution_count": 81,
      "outputs": []
    },
    {
      "cell_type": "code",
      "metadata": {
        "colab": {
          "base_uri": "https://localhost:8080/"
        },
        "id": "SokuQpZd1SnS",
        "outputId": "e3c84f6b-5b31-45d7-d4e3-f3b200b41f1d"
      },
      "source": [
        "input_shape= X_train[0].shape\n",
        "print(input_shape)"
      ],
      "execution_count": 82,
      "outputs": [
        {
          "output_type": "stream",
          "text": [
            "(30, 15, 15)\n"
          ],
          "name": "stdout"
        }
      ]
    },
    {
      "cell_type": "code",
      "metadata": {
        "colab": {
          "base_uri": "https://localhost:8080/"
        },
        "id": "SS1OdXZ81e8D",
        "outputId": "51518c03-877d-44e5-d84a-a4a3d65d56a5"
      },
      "source": [
        "data_train.__getitem__(0)[0].shape"
      ],
      "execution_count": 83,
      "outputs": [
        {
          "output_type": "execute_result",
          "data": {
            "text/plain": [
              "torch.Size([30, 15, 15])"
            ]
          },
          "metadata": {},
          "execution_count": 83
        }
      ]
    },
    {
      "cell_type": "code",
      "metadata": {
        "id": "8voUJFUk1hGU"
      },
      "source": [
        "n_epochs = 8\n",
        "batch_size_train = 16\n",
        "batch_size_test = 10\n",
        "learning_rate = 0.01\n",
        "momentum = 0.5\n",
        "log_interval = 100\n",
        "first_HL = 8"
      ],
      "execution_count": 84,
      "outputs": []
    },
    {
      "cell_type": "code",
      "metadata": {
        "colab": {
          "base_uri": "https://localhost:8080/"
        },
        "id": "y--iqOXK1hKI",
        "outputId": "c4db170c-2d60-4835-f138-69646cd4cd4e"
      },
      "source": [
        "import torch\n",
        "import torchvision\n",
        "\n",
        "## Call the Dataset Class \n",
        "#data_train = torchvision.datasets.IndianPines('./data',download=True,PATCH_LENGTH=2)\n",
        "\n",
        "## Check the shapes\n",
        "print(data_train.__getitem__(0)[0].shape)\n",
        "print(data_train.__len__())\n",
        "\n",
        "\n",
        "## Wrap it around a Torch Dataloader\n",
        "train_loader = torch.utils.data.DataLoader(data_train,batch_size=16,shuffle=True, num_workers=2)"
      ],
      "execution_count": 85,
      "outputs": [
        {
          "output_type": "stream",
          "text": [
            "torch.Size([30, 15, 15])\n",
            "4168\n"
          ],
          "name": "stdout"
        }
      ]
    },
    {
      "cell_type": "code",
      "metadata": {
        "colab": {
          "base_uri": "https://localhost:8080/"
        },
        "id": "el20l7Ny1hN0",
        "outputId": "cb2c8148-096d-4119-b1ee-d6a40a54fc01"
      },
      "source": [
        "len(data_train)"
      ],
      "execution_count": 86,
      "outputs": [
        {
          "output_type": "execute_result",
          "data": {
            "text/plain": [
              "4168"
            ]
          },
          "metadata": {},
          "execution_count": 86
        }
      ]
    },
    {
      "cell_type": "code",
      "metadata": {
        "id": "3XrPc66T1hU_"
      },
      "source": [
        "data_test=MyDataset(X_test, y_test)"
      ],
      "execution_count": 87,
      "outputs": []
    },
    {
      "cell_type": "code",
      "metadata": {
        "colab": {
          "base_uri": "https://localhost:8080/"
        },
        "id": "iFIxbEZM1uxr",
        "outputId": "22252246-ed62-4f5d-9697-90581ed25149"
      },
      "source": [
        "import torch\n",
        "import torchvision\n",
        "\n",
        "## Call the Dataset Class \n",
        "#data_test = torchvision.datasets.IndianPines('./data',download=True,PATCH_LENGTH=2)\n",
        "\n",
        "## Check the shapes\n",
        "print(data_test.__getitem__(0)[0].shape)\n",
        "print(data_test.__len__())"
      ],
      "execution_count": 88,
      "outputs": [
        {
          "output_type": "stream",
          "text": [
            "torch.Size([30, 15, 15])\n",
            "1043\n"
          ],
          "name": "stdout"
        }
      ]
    },
    {
      "cell_type": "code",
      "metadata": {
        "id": "q3QXolwr1u05"
      },
      "source": [
        "test_loader = torch.utils.data.DataLoader(data_test,batch_size=10,shuffle=False, num_workers=2)"
      ],
      "execution_count": 89,
      "outputs": []
    },
    {
      "cell_type": "code",
      "metadata": {
        "colab": {
          "base_uri": "https://localhost:8080/",
          "height": 568
        },
        "id": "GGroI38H1u3_",
        "outputId": "532d0011-bf95-406c-bc42-ef2a329d68d1"
      },
      "source": [
        "examples = enumerate(test_loader)\n",
        "batch_idx, (example_data, example_targets) = next(examples)\n",
        "\n",
        "print(example_data.shape)\n",
        "\n",
        "import matplotlib.pyplot as plt\n",
        "\n",
        "fig = plt.figure()\n",
        "for i in range(6):\n",
        "  plt.subplot(2,3,i+1)\n",
        "  plt.tight_layout()\n",
        "  plt.imshow(example_data[i][0], interpolation='none')\n",
        "  plt.title(\"Ground Truth: {}\".format(example_targets[i]))\n",
        "  plt.xticks([])\n",
        "  plt.yticks([])\n",
        "fig"
      ],
      "execution_count": 90,
      "outputs": [
        {
          "output_type": "stream",
          "text": [
            "torch.Size([10, 30, 15, 15])\n"
          ],
          "name": "stdout"
        },
        {
          "output_type": "execute_result",
          "data": {
            "image/png": "[encoded data removed]",
            "text/plain": [
              "<Figure size 432x288 with 6 Axes>"
            ]
          },
          "metadata": {},
          "execution_count": 90
        },
        {
          "output_type": "display_data",
          "data": {
            "image/png": "[encoded data removed]",
            "text/plain": [
              "<Figure size 432x288 with 6 Axes>"
            ]
          },
          "metadata": {}
        }
      ]
    },
    {
      "cell_type": "code",
      "metadata": {
        "id": "oVSa9KkH1u7E"
      },
      "source": [
        "import torch\n",
        "import torch.nn as nn\n",
        "import torchvision\n",
        "import torchvision.transforms as transforms\n",
        "\n",
        "import random"
      ],
      "execution_count": 91,
      "outputs": []
    },
    {
      "cell_type": "code",
      "metadata": {
        "id": "nNd9tITQ1u-F"
      },
      "source": [
        "device = torch.device('cuda' if torch.cuda.is_available() else 'cpu')\n",
        "\n",
        "# Hyper-parameters\n",
        "num_epochs = 16\n",
        "learning_rate = 0.001\n",
        "\n",
        "torch.manual_seed(0)\n",
        "random.seed(0)"
      ],
      "execution_count": 111,
      "outputs": []
    },
    {
      "cell_type": "code",
      "metadata": {
        "id": "ait2YKMs1vEZ"
      },
      "source": [
        "Half_width =60\n",
        "layer_width = 20"
      ],
      "execution_count": 112,
      "outputs": []
    },
    {
      "cell_type": "code",
      "metadata": {
        "id": "JXPg_kE-1vHB"
      },
      "source": [
        "class SpinalCNN(nn.Module):\n",
        "    \"\"\"CNN.\"\"\"\n",
        "\n",
        "    def __init__(self):\n",
        "        \"\"\"CNN Builder.\"\"\"\n",
        "        super(SpinalCNN, self).__init__()\n",
        "\n",
        "        self.conv_layer = nn.Sequential(\n",
        "\n",
        "            # Conv Layer block 1\n",
        "            nn.Conv2d(in_channels=30, out_channels=15, kernel_size=3, padding=1),\n",
        "            nn.BatchNorm2d(15),\n",
        "            nn.ReLU(inplace=True),\n",
        "            nn.Conv2d(in_channels=15, out_channels=30, kernel_size=3, padding=1),\n",
        "            nn.ReLU(inplace=True),\n",
        "            nn.MaxPool2d(kernel_size=2, stride=2),\n",
        "\n",
        "            # Conv Layer block 2\n",
        "            nn.Conv2d(in_channels=30, out_channels=60, kernel_size=3, padding=1),\n",
        "            nn.BatchNorm2d(60),\n",
        "            nn.ReLU(inplace=True),\n",
        "            nn.Conv2d(in_channels=60, out_channels=60, kernel_size=3, padding=1),\n",
        "            nn.ReLU(inplace=True),\n",
        "            nn.MaxPool2d(kernel_size=2, stride=2),\n",
        "            nn.Dropout2d(p=0.05),\n",
        "\n",
        "            # Conv Layer block 3\n",
        "            nn.Conv2d(in_channels=60, out_channels=120, kernel_size=3, padding=1),\n",
        "            nn.BatchNorm2d(120),\n",
        "            nn.ReLU(inplace=True),\n",
        "            nn.Conv2d(in_channels=120, out_channels=120, kernel_size=3, padding=1),\n",
        "            nn.ReLU(inplace=True),\n",
        "            nn.MaxPool2d(kernel_size=2, stride=2),\n",
        "        )\n",
        "        \n",
        "        self.fc_spinal_layer1 = nn.Sequential(\n",
        "            nn.Dropout(p=0.1), nn.Linear(Half_width, layer_width),\n",
        "            nn.ReLU(inplace=True),\n",
        "            )\n",
        "        self.fc_spinal_layer2 = nn.Sequential(\n",
        "            nn.Dropout(p=0.1), nn.Linear(Half_width + layer_width, layer_width),\n",
        "            nn.ReLU(inplace=True),\n",
        "            )\n",
        "        self.fc_spinal_layer3 = nn.Sequential(\n",
        "            nn.Dropout(p=0.1), nn.Linear(Half_width + layer_width, layer_width),\n",
        "            nn.ReLU(inplace=True),\n",
        "            )\n",
        "        self.fc_spinal_layer4 = nn.Sequential(\n",
        "            nn.Dropout(p=0.1), nn.Linear(Half_width + layer_width, layer_width),\n",
        "            nn.ReLU(inplace=True),\n",
        "            )\n",
        "        self.fc_out = nn.Sequential(\n",
        "            nn.Dropout(p=0.1), nn.Linear(layer_width*4, 16)            \n",
        "            )\n",
        "\n",
        "\n",
        "    def forward(self, x):\n",
        "        \"\"\"Perform forward.\"\"\"\n",
        "        \n",
        "        # conv layers\n",
        "        x = self.conv_layer(x)\n",
        "        \n",
        "        # flatten\n",
        "        x = x.view(x.size(0), -1)\n",
        "        \n",
        "        x1 = self.fc_spinal_layer1(x[:, 0:Half_width])\n",
        "        x2 = self.fc_spinal_layer2(torch.cat([ x[:,Half_width:2*Half_width], x1], dim=1))\n",
        "        x3 = self.fc_spinal_layer3(torch.cat([ x[:,0:Half_width], x2], dim=1))\n",
        "        x4 = self.fc_spinal_layer4(torch.cat([ x[:,Half_width:2*Half_width], x3], dim=1))\n",
        "        \n",
        "        x = torch.cat([x1, x2], dim=1)\n",
        "        x = torch.cat([x, x3], dim=1)\n",
        "        x = torch.cat([x, x4], dim=1)\n",
        "\n",
        "        x = self.fc_out(x)\n",
        "\n",
        "        return x"
      ],
      "execution_count": 113,
      "outputs": []
    },
    {
      "cell_type": "code",
      "metadata": {
        "colab": {
          "base_uri": "https://localhost:8080/"
        },
        "id": "WQzxIEJp2LKl",
        "outputId": "dff13971-7d7e-460d-8679-7eb412d50632"
      },
      "source": [
        "from tensorflow.keras.optimizers import Adam\n",
        "model = SpinalCNN().to(device)\n",
        "# defining the optimizer\n",
        "optimizer = Adam(model.parameters(), lr=0.07)\n",
        "# defining the loss function\n",
        "criterion = nn.CrossEntropyLoss()\n",
        "# checking if GPU is available\n",
        "if torch.cuda.is_available():\n",
        "    model = model.cuda()\n",
        "    criterion = criterion.cuda()\n",
        "    \n",
        "print(model)"
      ],
      "execution_count": 114,
      "outputs": [
        {
          "output_type": "stream",
          "text": [
            "SpinalCNN(\n",
            "  (conv_layer): Sequential(\n",
            "    (0): Conv2d(30, 15, kernel_size=(3, 3), stride=(1, 1), padding=(1, 1))\n",
            "    (1): BatchNorm2d(15, eps=1e-05, momentum=0.1, affine=True, track_running_stats=True)\n",
            "    (2): ReLU(inplace=True)\n",
            "    (3): Conv2d(15, 30, kernel_size=(3, 3), stride=(1, 1), padding=(1, 1))\n",
            "    (4): ReLU(inplace=True)\n",
            "    (5): MaxPool2d(kernel_size=2, stride=2, padding=0, dilation=1, ceil_mode=False)\n",
            "    (6): Conv2d(30, 60, kernel_size=(3, 3), stride=(1, 1), padding=(1, 1))\n",
            "    (7): BatchNorm2d(60, eps=1e-05, momentum=0.1, affine=True, track_running_stats=True)\n",
            "    (8): ReLU(inplace=True)\n",
            "    (9): Conv2d(60, 60, kernel_size=(3, 3), stride=(1, 1), padding=(1, 1))\n",
            "    (10): ReLU(inplace=True)\n",
            "    (11): MaxPool2d(kernel_size=2, stride=2, padding=0, dilation=1, ceil_mode=False)\n",
            "    (12): Dropout2d(p=0.05, inplace=False)\n",
            "    (13): Conv2d(60, 120, kernel_size=(3, 3), stride=(1, 1), padding=(1, 1))\n",
            "    (14): BatchNorm2d(120, eps=1e-05, momentum=0.1, affine=True, track_running_stats=True)\n",
            "    (15): ReLU(inplace=True)\n",
            "    (16): Conv2d(120, 120, kernel_size=(3, 3), stride=(1, 1), padding=(1, 1))\n",
            "    (17): ReLU(inplace=True)\n",
            "    (18): MaxPool2d(kernel_size=2, stride=2, padding=0, dilation=1, ceil_mode=False)\n",
            "  )\n",
            "  (fc_spinal_layer1): Sequential(\n",
            "    (0): Dropout(p=0.1, inplace=False)\n",
            "    (1): Linear(in_features=60, out_features=20, bias=True)\n",
            "    (2): ReLU(inplace=True)\n",
            "  )\n",
            "  (fc_spinal_layer2): Sequential(\n",
            "    (0): Dropout(p=0.1, inplace=False)\n",
            "    (1): Linear(in_features=80, out_features=20, bias=True)\n",
            "    (2): ReLU(inplace=True)\n",
            "  )\n",
            "  (fc_spinal_layer3): Sequential(\n",
            "    (0): Dropout(p=0.1, inplace=False)\n",
            "    (1): Linear(in_features=80, out_features=20, bias=True)\n",
            "    (2): ReLU(inplace=True)\n",
            "  )\n",
            "  (fc_spinal_layer4): Sequential(\n",
            "    (0): Dropout(p=0.1, inplace=False)\n",
            "    (1): Linear(in_features=80, out_features=20, bias=True)\n",
            "    (2): ReLU(inplace=True)\n",
            "  )\n",
            "  (fc_out): Sequential(\n",
            "    (0): Dropout(p=0.1, inplace=False)\n",
            "    (1): Linear(in_features=80, out_features=16, bias=True)\n",
            "  )\n",
            ")\n"
          ],
          "name": "stdout"
        },
        {
          "output_type": "stream",
          "text": [
            "/usr/local/lib/python3.7/dist-packages/keras/optimizer_v2/optimizer_v2.py:356: UserWarning: The `lr` argument is deprecated, use `learning_rate` instead.\n",
            "  \"The `lr` argument is deprecated, use `learning_rate` instead.\")\n"
          ],
          "name": "stderr"
        }
      ]
    },
    {
      "cell_type": "code",
      "metadata": {
        "colab": {
          "base_uri": "https://localhost:8080/"
        },
        "id": "Bajf_H5MII9l",
        "outputId": "8235c2cc-1963-433c-84e3-502a13342051"
      },
      "source": [
        "from torchvision import models\n",
        "from torchsummary import summary\n",
        "model = SpinalCNN().to(device)\n",
        "summary(model, (30, 15, 15))"
      ],
      "execution_count": 115,
      "outputs": [
        {
          "output_type": "stream",
          "text": [
            "----------------------------------------------------------------\n",
            "        Layer (type)               Output Shape         Param #\n",
            "================================================================\n",
            "            Conv2d-1           [-1, 15, 15, 15]           4,065\n",
            "       BatchNorm2d-2           [-1, 15, 15, 15]              30\n",
            "              ReLU-3           [-1, 15, 15, 15]               0\n",
            "            Conv2d-4           [-1, 30, 15, 15]           4,080\n",
            "              ReLU-5           [-1, 30, 15, 15]               0\n",
            "         MaxPool2d-6             [-1, 30, 7, 7]               0\n",
            "            Conv2d-7             [-1, 60, 7, 7]          16,260\n",
            "       BatchNorm2d-8             [-1, 60, 7, 7]             120\n",
            "              ReLU-9             [-1, 60, 7, 7]               0\n",
            "           Conv2d-10             [-1, 60, 7, 7]          32,460\n",
            "             ReLU-11             [-1, 60, 7, 7]               0\n",
            "        MaxPool2d-12             [-1, 60, 3, 3]               0\n",
            "        Dropout2d-13             [-1, 60, 3, 3]               0\n",
            "           Conv2d-14            [-1, 120, 3, 3]          64,920\n",
            "      BatchNorm2d-15            [-1, 120, 3, 3]             240\n",
            "             ReLU-16            [-1, 120, 3, 3]               0\n",
            "           Conv2d-17            [-1, 120, 3, 3]         129,720\n",
            "             ReLU-18            [-1, 120, 3, 3]               0\n",
            "        MaxPool2d-19            [-1, 120, 1, 1]               0\n",
            "          Dropout-20                   [-1, 60]               0\n",
            "           Linear-21                   [-1, 20]           1,220\n",
            "             ReLU-22                   [-1, 20]               0\n",
            "          Dropout-23                   [-1, 80]               0\n",
            "           Linear-24                   [-1, 20]           1,620\n",
            "             ReLU-25                   [-1, 20]               0\n",
            "          Dropout-26                   [-1, 80]               0\n",
            "           Linear-27                   [-1, 20]           1,620\n",
            "             ReLU-28                   [-1, 20]               0\n",
            "          Dropout-29                   [-1, 80]               0\n",
            "           Linear-30                   [-1, 20]           1,620\n",
            "             ReLU-31                   [-1, 20]               0\n",
            "          Dropout-32                   [-1, 80]               0\n",
            "           Linear-33                   [-1, 16]           1,296\n",
            "================================================================\n",
            "Total params: 259,271\n",
            "Trainable params: 259,271\n",
            "Non-trainable params: 0\n",
            "----------------------------------------------------------------\n",
            "Input size (MB): 0.03\n",
            "Forward/backward pass size (MB): 0.36\n",
            "Params size (MB): 0.99\n",
            "Estimated Total Size (MB): 1.37\n",
            "----------------------------------------------------------------\n"
          ],
          "name": "stdout"
        }
      ]
    },
    {
      "cell_type": "code",
      "metadata": {
        "colab": {
          "base_uri": "https://localhost:8080/"
        },
        "id": "SXlcqkeD2OhL",
        "outputId": "2c08ecdb-04fd-4485-93a7-5ff1cd99ee9e"
      },
      "source": [
        "model = SpinalCNN().to(device)\n",
        "\n",
        "\n",
        "\n",
        "# Loss and optimizer\n",
        "criterion = nn.CrossEntropyLoss()\n",
        "optimizer = torch.optim.Adam(model.parameters(), lr=learning_rate)\n",
        "\n",
        "# For updating learning rate\n",
        "def update_lr(optimizer, lr):    \n",
        "    for param_group in optimizer.param_groups:\n",
        "        param_group['lr'] = lr\n",
        "\n",
        "# Train the model\n",
        "total_step = len(train_loader)\n",
        "curr_lr = learning_rate\n",
        "for epoch in range(num_epochs):\n",
        "    for i, (images, labels) in enumerate(train_loader):\n",
        "        images = images.to(device)\n",
        "        labels = labels.to(device)\n",
        "       \n",
        "        #print(images.shape)\n",
        "        # Forward pass\n",
        "        outputs = model(images)\n",
        "        labels = torch.tensor(labels, dtype=torch.long, device=device)\n",
        "        loss = criterion(outputs, labels)\n",
        "\n",
        "        # Backward and optimize\n",
        "        optimizer.zero_grad()\n",
        "        loss.backward()\n",
        "        optimizer.step()\n",
        "\n",
        "\n",
        "        if (i+1) % 500 == 0:\n",
        "          print(\"Epoch [{}/{}], Step [{}/{}] Loss: {:.4f}\"\n",
        "                .format(epoch+1, num_epochs, i+1, total_step, loss.item()))\n",
        "            \n",
        "\n",
        "    # Decay learning rate\n",
        "    if (epoch) == 1 or epoch>20:\n",
        "        curr_lr /= 3\n",
        "        update_lr(optimizer, curr_lr)\n",
        "        \n",
        "        # Test the model\n",
        "    model.eval()\n",
        "    with torch.no_grad():\n",
        "      correct = 0\n",
        "      total = 0\n",
        "      predicted_numpy=[]\n",
        "      for images, labels in test_loader:\n",
        "\n",
        "        images = images.to(device)\n",
        "        labels = labels.to(device)\n",
        "        outputs = model(images)\n",
        "        _, predicted = torch.max(outputs.data, 1)\n",
        "        predicted_numpy.append(predicted.cpu().numpy())\n",
        "\n",
        "        total += labels.size(0)\n",
        "        correct += (predicted == labels).sum().item()\n",
        "        \n",
        "      print('Accuracy of the model on the test images: {} %'.format(100 * correct / total))\n",
        "                \n",
        "      model.train()"
      ],
      "execution_count": 116,
      "outputs": [
        {
          "output_type": "stream",
          "text": [
            "/usr/local/lib/python3.7/dist-packages/ipykernel_launcher.py:25: UserWarning: To copy construct from a tensor, it is recommended to use sourceTensor.clone().detach() or sourceTensor.clone().detach().requires_grad_(True), rather than torch.tensor(sourceTensor).\n"
          ],
          "name": "stderr"
        },
        {
          "output_type": "stream",
          "text": [
            "Accuracy of the model on the test images: 65.29242569511025 %\n",
            "Accuracy of the model on the test images: 74.97603068072867 %\n",
            "Accuracy of the model on the test images: 85.0431447746884 %\n",
            "Accuracy of the model on the test images: 74.59252157238734 %\n",
            "Accuracy of the model on the test images: 88.68648130393098 %\n",
            "Accuracy of the model on the test images: 87.91946308724832 %\n",
            "Accuracy of the model on the test images: 90.12464046021093 %\n",
            "Accuracy of the model on the test images: 88.20709491850431 %\n",
            "Accuracy of the model on the test images: 89.83700862895493 %\n",
            "Accuracy of the model on the test images: 89.74113135186961 %\n",
            "Accuracy of the model on the test images: 91.46692233940556 %\n",
            "Accuracy of the model on the test images: 89.26174496644295 %\n",
            "Accuracy of the model on the test images: 93.28859060402685 %\n",
            "Accuracy of the model on the test images: 93.7679769894535 %\n",
            "Accuracy of the model on the test images: 95.11025886864813 %\n",
            "Accuracy of the model on the test images: 95.39789069990412 %\n"
          ],
          "name": "stdout"
        }
      ]
    },
    {
      "cell_type": "code",
      "metadata": {
        "colab": {
          "base_uri": "https://localhost:8080/"
        },
        "id": "An_Q8lsCIwND",
        "outputId": "056998bd-4f87-40be-c432-32a08f327793"
      },
      "source": [
        "len(predicted_numpy)"
      ],
      "execution_count": 117,
      "outputs": [
        {
          "output_type": "execute_result",
          "data": {
            "text/plain": [
              "105"
            ]
          },
          "metadata": {},
          "execution_count": 117
        }
      ]
    },
    {
      "cell_type": "code",
      "metadata": {
        "id": "euZAgKaHIxCz"
      },
      "source": [
        "predicted_numpy = np.concatenate(predicted_numpy)"
      ],
      "execution_count": 118,
      "outputs": []
    },
    {
      "cell_type": "code",
      "metadata": {
        "colab": {
          "base_uri": "https://localhost:8080/"
        },
        "id": "mycKQHlLIzxD",
        "outputId": "d23d2b85-659c-479d-9436-40beaef57e01"
      },
      "source": [
        "predicted_numpy.shape"
      ],
      "execution_count": 119,
      "outputs": [
        {
          "output_type": "execute_result",
          "data": {
            "text/plain": [
              "(1043,)"
            ]
          },
          "metadata": {},
          "execution_count": 119
        }
      ]
    },
    {
      "cell_type": "code",
      "metadata": {
        "colab": {
          "base_uri": "https://localhost:8080/"
        },
        "id": "NTOvc63PI2QV",
        "outputId": "7332a4f9-aac7-43dc-b96c-540458e9dcd4"
      },
      "source": [
        "from sklearn.metrics import confusion_matrix\n",
        "from sklearn.metrics import plot_confusion_matrix\n",
        "y_true = y_test\n",
        "y_pred = predicted_numpy\n",
        "print(confusion_matrix(y_true, y_pred), end='\\n')"
      ],
      "execution_count": 120,
      "outputs": [
        {
          "output_type": "stream",
          "text": [
            "[[150   0   0   1   1   0   0   0   0   0   0   0   0]\n",
            " [  0  42   0   4   2   1   0   0   0   0   0   0   0]\n",
            " [  0   0  48   2   1   0   0   0   0   0   0   0   0]\n",
            " [  1   0   7  42   0   0   0   0   0   0   0   0   0]\n",
            " [  0   0   6   1  25   0   0   0   0   0   0   0   0]\n",
            " [  0   1   0   0   0  45   0   0   0   0   0   0   0]\n",
            " [  0   0   0   0   0   0  21   0   0   0   0   0   0]\n",
            " [  0   0   0   1   0   0   0  80   5   0   0   0   0]\n",
            " [  0   0   0   0   0   0   0   8  96   0   0   0   0]\n",
            " [  0   0   0   0   0   0   0   2   0  78   0   1   0]\n",
            " [  0   0   0   0   0   0   0   0   0   0  84   0   0]\n",
            " [  0   0   1   0   1   0   0   0   0   0   0  99   0]\n",
            " [  0   0   0   0   0   0   0   1   0   0   0   0 185]]\n"
          ],
          "name": "stdout"
        }
      ]
    },
    {
      "cell_type": "code",
      "metadata": {
        "colab": {
          "base_uri": "https://localhost:8080/",
          "height": 445
        },
        "id": "vyFGKcL2DqtK",
        "outputId": "6ad145a1-059f-4a91-bb21-d340ae4e44cd"
      },
      "source": [
        "from sklearn.metrics import confusion_matrix\n",
        "from sklearn.metrics import plot_confusion_matrix\n",
        "import seaborn as sn\n",
        "y_true = y_test\n",
        "y_pred = predicted_numpy\n",
        "plt.figure(figsize = (10,7))\n",
        "print(sn.heatmap(confusion_matrix(y_true, y_pred),annot=True,cmap=\"OrRd\",fmt='d'))\n",
        "plt.savefig('KSC_pca_Confusion Matrix')"
      ],
      "execution_count": 135,
      "outputs": [
        {
          "output_type": "stream",
          "text": [
            "AxesSubplot(0.125,0.125;0.62x0.755)\n"
          ],
          "name": "stdout"
        },
        {
          "output_type": "display_data",
          "data": {
            "image/png": "[encoded data removed]",
            "text/plain": [
              "<Figure size 720x504 with 2 Axes>"
            ]
          },
          "metadata": {
            "needs_background": "light"
          }
        }
      ]
    },
    {
      "cell_type": "code",
      "metadata": {
        "colab": {
          "base_uri": "https://localhost:8080/"
        },
        "id": "YN04vF05da6u",
        "outputId": "1b7e24c3-a9bc-4cee-c0f5-e47341d851b4"
      },
      "source": [
        "from sklearn.metrics import cohen_kappa_score\n",
        "print(cohen_kappa_score(y_true, y_pred, labels=None, weights=None, sample_weight=None))"
      ],
      "execution_count": 122,
      "outputs": [
        {
          "output_type": "stream",
          "text": [
            "0.9487756139835698\n"
          ],
          "name": "stdout"
        }
      ]
    },
    {
      "cell_type": "code",
      "metadata": {
        "id": "Q-Jm_Xf3I6Gb"
      },
      "source": [
        "from sklearn.metrics import classification_report"
      ],
      "execution_count": 123,
      "outputs": []
    },
    {
      "cell_type": "code",
      "metadata": {
        "colab": {
          "base_uri": "https://localhost:8080/"
        },
        "id": "uza4cL23I8sU",
        "outputId": "45326f14-5d91-4a03-997f-2812045a21de"
      },
      "source": [
        "from sklearn.metrics import confusion_matrix\n",
        "from sklearn.metrics import plot_confusion_matrix\n",
        "y_true = y_test\n",
        "y_pred = predicted_numpy\n",
        "target_names = ['class 0', 'class 1', 'class 2', 'class 3', 'class 4', 'class 5', 'class 6', 'class 7', 'class 8', 'class 9', 'class 10', 'class 11', 'class 12']\n",
        "print(classification_report(y_true, y_pred, target_names=target_names, digits=4))"
      ],
      "execution_count": 124,
      "outputs": [
        {
          "output_type": "stream",
          "text": [
            "              precision    recall  f1-score   support\n",
            "\n",
            "     class 0     0.9934    0.9868    0.9901       152\n",
            "     class 1     0.9767    0.8571    0.9130        49\n",
            "     class 2     0.7742    0.9412    0.8496        51\n",
            "     class 3     0.8235    0.8400    0.8317        50\n",
            "     class 4     0.8333    0.7812    0.8065        32\n",
            "     class 5     0.9783    0.9783    0.9783        46\n",
            "     class 6     1.0000    1.0000    1.0000        21\n",
            "     class 7     0.8791    0.9302    0.9040        86\n",
            "     class 8     0.9505    0.9231    0.9366       104\n",
            "     class 9     1.0000    0.9630    0.9811        81\n",
            "    class 10     1.0000    1.0000    1.0000        84\n",
            "    class 11     0.9900    0.9802    0.9851       101\n",
            "    class 12     1.0000    0.9946    0.9973       186\n",
            "\n",
            "    accuracy                         0.9540      1043\n",
            "   macro avg     0.9384    0.9366    0.9364      1043\n",
            "weighted avg     0.9565    0.9540    0.9545      1043\n",
            "\n"
          ],
          "name": "stdout"
        }
      ]
    },
    {
      "cell_type": "code",
      "metadata": {
        "id": "2x7ipmMdaM41"
      },
      "source": [
        "f = sio.loadmat('KSC.mat')['KSC']\n",
        "g = sio.loadmat('KSC_gt.mat')['KSC_gt']"
      ],
      "execution_count": 125,
      "outputs": []
    },
    {
      "cell_type": "code",
      "metadata": {
        "id": "px_1RS-CaYMm"
      },
      "source": [
        "F,pca = applyPCA(f,30)"
      ],
      "execution_count": 126,
      "outputs": []
    },
    {
      "cell_type": "code",
      "metadata": {
        "id": "eSKEsR-aagxO"
      },
      "source": [
        "FPatches, gPatches = createPatches(F,g, windowSize=15)"
      ],
      "execution_count": 127,
      "outputs": []
    },
    {
      "cell_type": "code",
      "metadata": {
        "id": "ZlOxKP8Ga3-e"
      },
      "source": [
        "import itertools"
      ],
      "execution_count": 130,
      "outputs": []
    },
    {
      "cell_type": "code",
      "metadata": {
        "id": "ms0BA6OBah21"
      },
      "source": [
        "def classified_pixels(FPatches,gPatches,g):\n",
        "  FPatches=np.reshape(FPatches,(FPatches.shape[0],FPatches.shape[3],FPatches.shape[1],FPatches.shape[2]))\n",
        "  data_test=MyDataset(FPatches, gPatches)\n",
        "  test_loader = torch.utils.data.DataLoader(data_test,batch_size=10,shuffle=False, num_workers=2)\n",
        "  with torch.no_grad():\n",
        "    correct = 0\n",
        "    total = 0\n",
        "    predicted_numpy=[]\n",
        "    for images, labels in test_loader:\n",
        "      images = images.to(device)\n",
        "      labels = labels.to(device)\n",
        "      outputs = model(images)\n",
        "      _, predicted = torch.max(outputs.data, 1)\n",
        "      predicted_numpy.append(predicted.cpu().numpy())\n",
        "      total += labels.size(0)\n",
        "      correct += (predicted == labels).sum().item()\n",
        "  classification_map=np.array(predicted_numpy)\n",
        "  cm=[]\n",
        "  for arr in classification_map:\n",
        "    cm.append(arr.tolist())\n",
        "  cm=list(itertools.chain.from_iterable(cm))\n",
        "  classification_map=np.array(cm)\n",
        "\n",
        "  height=g.shape[0]\n",
        "  width=g.shape[1]\n",
        "  outputs = np.zeros((height,width))\n",
        "  k=0\n",
        "  for i in range(height):\n",
        "    for j in range(width):\n",
        "       target = g[i][j]\n",
        "       if target == 0 :\n",
        "         continue\n",
        "       else :\n",
        "        outputs[i][j]=classification_map[k]\n",
        "       k=k+1\n",
        "  return classification_map,outputs"
      ],
      "execution_count": 131,
      "outputs": []
    },
    {
      "cell_type": "code",
      "metadata": {
        "colab": {
          "base_uri": "https://localhost:8080/"
        },
        "id": "UWG5PNKCap0H",
        "outputId": "ddb78580-ac25-4849-cf03-4ee7dbd81528"
      },
      "source": [
        "cma,out=classified_pixels(FPatches,gPatches,g)"
      ],
      "execution_count": 132,
      "outputs": [
        {
          "output_type": "stream",
          "text": [
            "/usr/local/lib/python3.7/dist-packages/ipykernel_launcher.py:17: VisibleDeprecationWarning: Creating an ndarray from ragged nested sequences (which is a list-or-tuple of lists-or-tuples-or ndarrays with different lengths or shapes) is deprecated. If you meant to do this, you must specify 'dtype=object' when creating the ndarray\n"
          ],
          "name": "stderr"
        }
      ]
    },
    {
      "cell_type": "code",
      "metadata": {
        "colab": {
          "base_uri": "https://localhost:8080/",
          "height": 377
        },
        "id": "FY7dB4Jiatq7",
        "outputId": "f1939d53-a171-4cb0-f406-69b173ce3cf7"
      },
      "source": [
        "plt.figure(figsize=(7,7))\n",
        "a=plt.imshow(out)\n",
        "plt.savefig('KSC_pca_cmap')"
      ],
      "execution_count": 133,
      "outputs": [
        {
          "output_type": "display_data",
          "data": {
            "image/png": "[encoded data removed]",
            "text/plain": [
              "<Figure size 504x504 with 1 Axes>"
            ]
          },
          "metadata": {
            "needs_background": "light"
          }
        }
      ]
    },
    {
      "cell_type": "code",
      "metadata": {
        "colab": {
          "base_uri": "https://localhost:8080/",
          "height": 377
        },
        "id": "IU2Z8ja6bEBM",
        "outputId": "bd2a1e56-ce2b-4153-f260-b4e209cfe458"
      },
      "source": [
        "plt.figure(figsize=(7,7))\n",
        "plt.imshow(g)\n",
        "plt.savefig('KSC_pca_gt')"
      ],
      "execution_count": 134,
      "outputs": [
        {
          "output_type": "display_data",
          "data": {
            "image/png": "[encoded data removed]",
            "text/plain": [
              "<Figure size 504x504 with 1 Axes>"
            ]
          },
          "metadata": {
            "needs_background": "light"
          }
        }
      ]
    }
  ]
}